{
 "cells": [
  {
   "cell_type": "code",
   "execution_count": 3,
   "id": "6472274b",
   "metadata": {},
   "outputs": [],
   "source": [
    "import pandas as pd"
   ]
  },
  {
   "cell_type": "code",
   "execution_count": 4,
   "id": "d0de7663",
   "metadata": {},
   "outputs": [],
   "source": [
    "import sklearn"
   ]
  },
  {
   "cell_type": "code",
   "execution_count": 5,
   "id": "f52099cd",
   "metadata": {},
   "outputs": [],
   "source": [
    "df = pd.read_csv(r\"H:\\bank_churn_prediction\\Bank_Customer_Churn_Prediction.csv\")"
   ]
  },
  {
   "cell_type": "code",
   "execution_count": 6,
   "id": "cfd9954a",
   "metadata": {},
   "outputs": [
    {
     "data": {
      "text/html": [
       "<div>\n",
       "<style scoped>\n",
       "    .dataframe tbody tr th:only-of-type {\n",
       "        vertical-align: middle;\n",
       "    }\n",
       "\n",
       "    .dataframe tbody tr th {\n",
       "        vertical-align: top;\n",
       "    }\n",
       "\n",
       "    .dataframe thead th {\n",
       "        text-align: right;\n",
       "    }\n",
       "</style>\n",
       "<table border=\"1\" class=\"dataframe\">\n",
       "  <thead>\n",
       "    <tr style=\"text-align: right;\">\n",
       "      <th></th>\n",
       "      <th>customer_id</th>\n",
       "      <th>credit_score</th>\n",
       "      <th>country</th>\n",
       "      <th>gender</th>\n",
       "      <th>age</th>\n",
       "      <th>tenure</th>\n",
       "      <th>balance</th>\n",
       "      <th>products_number</th>\n",
       "      <th>credit_card</th>\n",
       "      <th>active_member</th>\n",
       "      <th>estimated_salary</th>\n",
       "      <th>churn</th>\n",
       "    </tr>\n",
       "  </thead>\n",
       "  <tbody>\n",
       "    <tr>\n",
       "      <th>0</th>\n",
       "      <td>15634602</td>\n",
       "      <td>619</td>\n",
       "      <td>France</td>\n",
       "      <td>Female</td>\n",
       "      <td>42</td>\n",
       "      <td>2</td>\n",
       "      <td>0.00</td>\n",
       "      <td>1</td>\n",
       "      <td>1</td>\n",
       "      <td>1</td>\n",
       "      <td>101348.88</td>\n",
       "      <td>1</td>\n",
       "    </tr>\n",
       "    <tr>\n",
       "      <th>1</th>\n",
       "      <td>15647311</td>\n",
       "      <td>608</td>\n",
       "      <td>Spain</td>\n",
       "      <td>Female</td>\n",
       "      <td>41</td>\n",
       "      <td>1</td>\n",
       "      <td>83807.86</td>\n",
       "      <td>1</td>\n",
       "      <td>0</td>\n",
       "      <td>1</td>\n",
       "      <td>112542.58</td>\n",
       "      <td>0</td>\n",
       "    </tr>\n",
       "    <tr>\n",
       "      <th>2</th>\n",
       "      <td>15619304</td>\n",
       "      <td>502</td>\n",
       "      <td>France</td>\n",
       "      <td>Female</td>\n",
       "      <td>42</td>\n",
       "      <td>8</td>\n",
       "      <td>159660.80</td>\n",
       "      <td>3</td>\n",
       "      <td>1</td>\n",
       "      <td>0</td>\n",
       "      <td>113931.57</td>\n",
       "      <td>1</td>\n",
       "    </tr>\n",
       "    <tr>\n",
       "      <th>3</th>\n",
       "      <td>15701354</td>\n",
       "      <td>699</td>\n",
       "      <td>France</td>\n",
       "      <td>Female</td>\n",
       "      <td>39</td>\n",
       "      <td>1</td>\n",
       "      <td>0.00</td>\n",
       "      <td>2</td>\n",
       "      <td>0</td>\n",
       "      <td>0</td>\n",
       "      <td>93826.63</td>\n",
       "      <td>0</td>\n",
       "    </tr>\n",
       "    <tr>\n",
       "      <th>4</th>\n",
       "      <td>15737888</td>\n",
       "      <td>850</td>\n",
       "      <td>Spain</td>\n",
       "      <td>Female</td>\n",
       "      <td>43</td>\n",
       "      <td>2</td>\n",
       "      <td>125510.82</td>\n",
       "      <td>1</td>\n",
       "      <td>1</td>\n",
       "      <td>1</td>\n",
       "      <td>79084.10</td>\n",
       "      <td>0</td>\n",
       "    </tr>\n",
       "  </tbody>\n",
       "</table>\n",
       "</div>"
      ],
      "text/plain": [
       "   customer_id  credit_score country  gender  age  tenure    balance  \\\n",
       "0     15634602           619  France  Female   42       2       0.00   \n",
       "1     15647311           608   Spain  Female   41       1   83807.86   \n",
       "2     15619304           502  France  Female   42       8  159660.80   \n",
       "3     15701354           699  France  Female   39       1       0.00   \n",
       "4     15737888           850   Spain  Female   43       2  125510.82   \n",
       "\n",
       "   products_number  credit_card  active_member  estimated_salary  churn  \n",
       "0                1            1              1         101348.88      1  \n",
       "1                1            0              1         112542.58      0  \n",
       "2                3            1              0         113931.57      1  \n",
       "3                2            0              0          93826.63      0  \n",
       "4                1            1              1          79084.10      0  "
      ]
     },
     "execution_count": 6,
     "metadata": {},
     "output_type": "execute_result"
    }
   ],
   "source": [
    "df.head()"
   ]
  },
  {
   "cell_type": "code",
   "execution_count": 7,
   "id": "606b3435",
   "metadata": {},
   "outputs": [],
   "source": [
    "df.drop(['customer_id','country','gender','age'],axis = 1,inplace= True)"
   ]
  },
  {
   "cell_type": "code",
   "execution_count": 8,
   "id": "741c6176",
   "metadata": {},
   "outputs": [
    {
     "data": {
      "text/html": [
       "<div>\n",
       "<style scoped>\n",
       "    .dataframe tbody tr th:only-of-type {\n",
       "        vertical-align: middle;\n",
       "    }\n",
       "\n",
       "    .dataframe tbody tr th {\n",
       "        vertical-align: top;\n",
       "    }\n",
       "\n",
       "    .dataframe thead th {\n",
       "        text-align: right;\n",
       "    }\n",
       "</style>\n",
       "<table border=\"1\" class=\"dataframe\">\n",
       "  <thead>\n",
       "    <tr style=\"text-align: right;\">\n",
       "      <th></th>\n",
       "      <th>credit_score</th>\n",
       "      <th>tenure</th>\n",
       "      <th>balance</th>\n",
       "      <th>products_number</th>\n",
       "      <th>credit_card</th>\n",
       "      <th>active_member</th>\n",
       "      <th>estimated_salary</th>\n",
       "      <th>churn</th>\n",
       "    </tr>\n",
       "  </thead>\n",
       "  <tbody>\n",
       "    <tr>\n",
       "      <th>0</th>\n",
       "      <td>619</td>\n",
       "      <td>2</td>\n",
       "      <td>0.00</td>\n",
       "      <td>1</td>\n",
       "      <td>1</td>\n",
       "      <td>1</td>\n",
       "      <td>101348.88</td>\n",
       "      <td>1</td>\n",
       "    </tr>\n",
       "    <tr>\n",
       "      <th>1</th>\n",
       "      <td>608</td>\n",
       "      <td>1</td>\n",
       "      <td>83807.86</td>\n",
       "      <td>1</td>\n",
       "      <td>0</td>\n",
       "      <td>1</td>\n",
       "      <td>112542.58</td>\n",
       "      <td>0</td>\n",
       "    </tr>\n",
       "    <tr>\n",
       "      <th>2</th>\n",
       "      <td>502</td>\n",
       "      <td>8</td>\n",
       "      <td>159660.80</td>\n",
       "      <td>3</td>\n",
       "      <td>1</td>\n",
       "      <td>0</td>\n",
       "      <td>113931.57</td>\n",
       "      <td>1</td>\n",
       "    </tr>\n",
       "    <tr>\n",
       "      <th>3</th>\n",
       "      <td>699</td>\n",
       "      <td>1</td>\n",
       "      <td>0.00</td>\n",
       "      <td>2</td>\n",
       "      <td>0</td>\n",
       "      <td>0</td>\n",
       "      <td>93826.63</td>\n",
       "      <td>0</td>\n",
       "    </tr>\n",
       "    <tr>\n",
       "      <th>4</th>\n",
       "      <td>850</td>\n",
       "      <td>2</td>\n",
       "      <td>125510.82</td>\n",
       "      <td>1</td>\n",
       "      <td>1</td>\n",
       "      <td>1</td>\n",
       "      <td>79084.10</td>\n",
       "      <td>0</td>\n",
       "    </tr>\n",
       "  </tbody>\n",
       "</table>\n",
       "</div>"
      ],
      "text/plain": [
       "   credit_score  tenure    balance  products_number  credit_card  \\\n",
       "0           619       2       0.00                1            1   \n",
       "1           608       1   83807.86                1            0   \n",
       "2           502       8  159660.80                3            1   \n",
       "3           699       1       0.00                2            0   \n",
       "4           850       2  125510.82                1            1   \n",
       "\n",
       "   active_member  estimated_salary  churn  \n",
       "0              1         101348.88      1  \n",
       "1              1         112542.58      0  \n",
       "2              0         113931.57      1  \n",
       "3              0          93826.63      0  \n",
       "4              1          79084.10      0  "
      ]
     },
     "execution_count": 8,
     "metadata": {},
     "output_type": "execute_result"
    }
   ],
   "source": [
    "df.head()"
   ]
  },
  {
   "cell_type": "code",
   "execution_count": 9,
   "id": "164d8bb5",
   "metadata": {},
   "outputs": [
    {
     "data": {
      "text/plain": [
       "Index(['credit_score', 'tenure', 'balance', 'products_number', 'credit_card',\n",
       "       'active_member', 'estimated_salary', 'churn'],\n",
       "      dtype='object')"
      ]
     },
     "execution_count": 9,
     "metadata": {},
     "output_type": "execute_result"
    }
   ],
   "source": [
    "df.columns\n"
   ]
  },
  {
   "cell_type": "code",
   "execution_count": 10,
   "id": "f093ff0a",
   "metadata": {},
   "outputs": [],
   "source": [
    "X = df.drop( 'churn',axis = 1)\n",
    "y = df[ 'churn']"
   ]
  },
  {
   "cell_type": "code",
   "execution_count": 11,
   "id": "ecc5c61d",
   "metadata": {},
   "outputs": [],
   "source": [
    "from sklearn.preprocessing import StandardScaler\n",
    "st = StandardScaler()"
   ]
  },
  {
   "cell_type": "code",
   "execution_count": 12,
   "id": "6654c6f3",
   "metadata": {},
   "outputs": [],
   "source": [
    "X[['credit_score','balance','estimated_salary']] = st.fit_transform(X[['credit_score','balance','estimated_salary']])"
   ]
  },
  {
   "cell_type": "code",
   "execution_count": 13,
   "id": "43b63b6f",
   "metadata": {},
   "outputs": [],
   "source": [
    "from sklearn.model_selection import train_test_split"
   ]
  },
  {
   "cell_type": "code",
   "execution_count": 14,
   "id": "2db6147f",
   "metadata": {},
   "outputs": [],
   "source": [
    "X_train,X_test,y_train,y_test = train_test_split(X,y,test_size=0.2,random_state=23)"
   ]
  },
  {
   "cell_type": "code",
   "execution_count": 15,
   "id": "adbe9fa2",
   "metadata": {},
   "outputs": [],
   "source": [
    "from sklearn.linear_model import LogisticRegression\n",
    "from sklearn.metrics import accuracy_score"
   ]
  },
  {
   "cell_type": "code",
   "execution_count": 16,
   "id": "39054e51",
   "metadata": {},
   "outputs": [
    {
     "data": {
      "text/plain": [
       "0.802"
      ]
     },
     "execution_count": 16,
     "metadata": {},
     "output_type": "execute_result"
    }
   ],
   "source": [
    "log = LogisticRegression()\n",
    "log.fit(X_train,y_train)\n",
    "y_pred = log.predict(X_test)\n",
    "accuracy_score(y_test,y_pred)"
   ]
  },
  {
   "cell_type": "markdown",
   "id": "1322201f",
   "metadata": {},
   "source": [
    "## Feature Selection"
   ]
  },
  {
   "cell_type": "code",
   "execution_count": 17,
   "id": "4b24f17f",
   "metadata": {},
   "outputs": [],
   "source": [
    "from sklearn.feature_selection import RFE"
   ]
  },
  {
   "cell_type": "code",
   "execution_count": 18,
   "id": "d68552bc",
   "metadata": {},
   "outputs": [
    {
     "name": "stdout",
     "output_type": "stream",
     "text": [
      "[ True  True  True  True  True  True  True]\n",
      "[1 1 1 1 1 1 1]\n"
     ]
    }
   ],
   "source": [
    "# for logistics regression\n",
    "rfe = RFE(estimator=log, n_features_to_select=7) \n",
    "rfe = rfe.fit(X.values, y.values) \n",
    "\n",
    "# mask of selected features\n",
    "print(rfe.support_)\n",
    "# The feature ranking, such that ranking_[i] corresponds to the ranking position of the i-th feature \n",
    "print(rfe.ranking_)"
   ]
  },
  {
   "cell_type": "code",
   "execution_count": 19,
   "id": "c9325f71",
   "metadata": {},
   "outputs": [
    {
     "data": {
      "text/plain": [
       "['credit_score',\n",
       " 'tenure',\n",
       " 'balance',\n",
       " 'products_number',\n",
       " 'credit_card',\n",
       " 'active_member',\n",
       " 'estimated_salary']"
      ]
     },
     "execution_count": 19,
     "metadata": {},
     "output_type": "execute_result"
    }
   ],
   "source": [
    "mask = rfe.support_.tolist()\n",
    "selected_feats = [b for a,b in zip(mask, X.columns) if a]\n",
    "selected_feats"
   ]
  },
  {
   "cell_type": "markdown",
   "id": "c8a48076",
   "metadata": {},
   "source": [
    "## Hyper Paramter Tuning"
   ]
  },
  {
   "cell_type": "code",
   "execution_count": 20,
   "id": "617a3443",
   "metadata": {},
   "outputs": [],
   "source": [
    "import numpy as np"
   ]
  },
  {
   "cell_type": "code",
   "execution_count": 21,
   "id": "01896469",
   "metadata": {},
   "outputs": [
    {
     "data": {
      "text/plain": [
       "{0: 1.0, 1: 3.8750761730652044}"
      ]
     },
     "execution_count": 21,
     "metadata": {},
     "output_type": "execute_result"
    }
   ],
   "source": [
    "# Obtaining class weights based on the class samples imbalance ratio\n",
    "_, num_samples = np.unique(y_train, return_counts=True)\n",
    "weights = np.max(num_samples)/num_samples\n",
    "\n",
    "# Define weight dictionnary\n",
    "weights_dict = dict()\n",
    "class_labels = [0,1]\n",
    "\n",
    "# Weights associated with classes\n",
    "for a,b in zip(class_labels,weights):\n",
    "    weights_dict[a] = b\n",
    "\n",
    "weights_dict"
   ]
  },
  {
   "cell_type": "code",
   "execution_count": 22,
   "id": "daa4afc2",
   "metadata": {},
   "outputs": [],
   "source": [
    "from sklearn.model_selection import GridSearchCV"
   ]
  },
  {
   "cell_type": "code",
   "execution_count": 23,
   "id": "30af4ba1",
   "metadata": {},
   "outputs": [
    {
     "name": "stdout",
     "output_type": "stream",
     "text": [
      "Fitting 10 folds for each of 720 candidates, totalling 7200 fits\n"
     ]
    },
    {
     "name": "stderr",
     "output_type": "stream",
     "text": [
      "h:\\bank_churn_prediction\\venvst\\lib\\site-packages\\sklearn\\model_selection\\_validation.py:425: FitFailedWarning: \n",
      "3240 fits failed out of a total of 7200.\n",
      "The score on these train-test partitions for these parameters will be set to nan.\n",
      "If these failures are not expected, you can try to debug them by setting error_score='raise'.\n",
      "\n",
      "Below are more details about the failures:\n",
      "--------------------------------------------------------------------------------\n",
      "360 fits failed with the following error:\n",
      "Traceback (most recent call last):\n",
      "  File \"h:\\bank_churn_prediction\\venvst\\lib\\site-packages\\sklearn\\model_selection\\_validation.py\", line 729, in _fit_and_score\n",
      "    estimator.fit(X_train, y_train, **fit_params)\n",
      "  File \"h:\\bank_churn_prediction\\venvst\\lib\\site-packages\\sklearn\\base.py\", line 1152, in wrapper\n",
      "    return fit_method(estimator, *args, **kwargs)\n",
      "  File \"h:\\bank_churn_prediction\\venvst\\lib\\site-packages\\sklearn\\linear_model\\_logistic.py\", line 1169, in fit\n",
      "    solver = _check_solver(self.solver, self.penalty, self.dual)\n",
      "  File \"h:\\bank_churn_prediction\\venvst\\lib\\site-packages\\sklearn\\linear_model\\_logistic.py\", line 73, in _check_solver\n",
      "    raise ValueError(\"penalty='none' is not supported for the liblinear solver\")\n",
      "ValueError: penalty='none' is not supported for the liblinear solver\n",
      "\n",
      "--------------------------------------------------------------------------------\n",
      "360 fits failed with the following error:\n",
      "Traceback (most recent call last):\n",
      "  File \"h:\\bank_churn_prediction\\venvst\\lib\\site-packages\\sklearn\\model_selection\\_validation.py\", line 729, in _fit_and_score\n",
      "    estimator.fit(X_train, y_train, **fit_params)\n",
      "  File \"h:\\bank_churn_prediction\\venvst\\lib\\site-packages\\sklearn\\base.py\", line 1152, in wrapper\n",
      "    return fit_method(estimator, *args, **kwargs)\n",
      "  File \"h:\\bank_churn_prediction\\venvst\\lib\\site-packages\\sklearn\\linear_model\\_logistic.py\", line 1169, in fit\n",
      "    solver = _check_solver(self.solver, self.penalty, self.dual)\n",
      "  File \"h:\\bank_churn_prediction\\venvst\\lib\\site-packages\\sklearn\\linear_model\\_logistic.py\", line 66, in _check_solver\n",
      "    raise ValueError(\n",
      "ValueError: Only 'saga' solver supports elasticnet penalty, got solver=liblinear.\n",
      "\n",
      "--------------------------------------------------------------------------------\n",
      "360 fits failed with the following error:\n",
      "Traceback (most recent call last):\n",
      "  File \"h:\\bank_churn_prediction\\venvst\\lib\\site-packages\\sklearn\\model_selection\\_validation.py\", line 729, in _fit_and_score\n",
      "    estimator.fit(X_train, y_train, **fit_params)\n",
      "  File \"h:\\bank_churn_prediction\\venvst\\lib\\site-packages\\sklearn\\base.py\", line 1152, in wrapper\n",
      "    return fit_method(estimator, *args, **kwargs)\n",
      "  File \"h:\\bank_churn_prediction\\venvst\\lib\\site-packages\\sklearn\\linear_model\\_logistic.py\", line 1169, in fit\n",
      "    solver = _check_solver(self.solver, self.penalty, self.dual)\n",
      "  File \"h:\\bank_churn_prediction\\venvst\\lib\\site-packages\\sklearn\\linear_model\\_logistic.py\", line 56, in _check_solver\n",
      "    raise ValueError(\n",
      "ValueError: Solver newton-cg supports only 'l2' or 'none' penalties, got elasticnet penalty.\n",
      "\n",
      "--------------------------------------------------------------------------------\n",
      "360 fits failed with the following error:\n",
      "Traceback (most recent call last):\n",
      "  File \"h:\\bank_churn_prediction\\venvst\\lib\\site-packages\\sklearn\\model_selection\\_validation.py\", line 729, in _fit_and_score\n",
      "    estimator.fit(X_train, y_train, **fit_params)\n",
      "  File \"h:\\bank_churn_prediction\\venvst\\lib\\site-packages\\sklearn\\base.py\", line 1152, in wrapper\n",
      "    return fit_method(estimator, *args, **kwargs)\n",
      "  File \"h:\\bank_churn_prediction\\venvst\\lib\\site-packages\\sklearn\\linear_model\\_logistic.py\", line 1169, in fit\n",
      "    solver = _check_solver(self.solver, self.penalty, self.dual)\n",
      "  File \"h:\\bank_churn_prediction\\venvst\\lib\\site-packages\\sklearn\\linear_model\\_logistic.py\", line 56, in _check_solver\n",
      "    raise ValueError(\n",
      "ValueError: Solver sag supports only 'l2' or 'none' penalties, got elasticnet penalty.\n",
      "\n",
      "--------------------------------------------------------------------------------\n",
      "360 fits failed with the following error:\n",
      "Traceback (most recent call last):\n",
      "  File \"h:\\bank_churn_prediction\\venvst\\lib\\site-packages\\sklearn\\model_selection\\_validation.py\", line 729, in _fit_and_score\n",
      "    estimator.fit(X_train, y_train, **fit_params)\n",
      "  File \"h:\\bank_churn_prediction\\venvst\\lib\\site-packages\\sklearn\\base.py\", line 1152, in wrapper\n",
      "    return fit_method(estimator, *args, **kwargs)\n",
      "  File \"h:\\bank_churn_prediction\\venvst\\lib\\site-packages\\sklearn\\linear_model\\_logistic.py\", line 1179, in fit\n",
      "    raise ValueError(\"l1_ratio must be specified when penalty is elasticnet.\")\n",
      "ValueError: l1_ratio must be specified when penalty is elasticnet.\n",
      "\n",
      "--------------------------------------------------------------------------------\n",
      "360 fits failed with the following error:\n",
      "Traceback (most recent call last):\n",
      "  File \"h:\\bank_churn_prediction\\venvst\\lib\\site-packages\\sklearn\\model_selection\\_validation.py\", line 729, in _fit_and_score\n",
      "    estimator.fit(X_train, y_train, **fit_params)\n",
      "  File \"h:\\bank_churn_prediction\\venvst\\lib\\site-packages\\sklearn\\base.py\", line 1152, in wrapper\n",
      "    return fit_method(estimator, *args, **kwargs)\n",
      "  File \"h:\\bank_churn_prediction\\venvst\\lib\\site-packages\\sklearn\\linear_model\\_logistic.py\", line 1169, in fit\n",
      "    solver = _check_solver(self.solver, self.penalty, self.dual)\n",
      "  File \"h:\\bank_churn_prediction\\venvst\\lib\\site-packages\\sklearn\\linear_model\\_logistic.py\", line 56, in _check_solver\n",
      "    raise ValueError(\n",
      "ValueError: Solver lbfgs supports only 'l2' or 'none' penalties, got elasticnet penalty.\n",
      "\n",
      "--------------------------------------------------------------------------------\n",
      "360 fits failed with the following error:\n",
      "Traceback (most recent call last):\n",
      "  File \"h:\\bank_churn_prediction\\venvst\\lib\\site-packages\\sklearn\\model_selection\\_validation.py\", line 729, in _fit_and_score\n",
      "    estimator.fit(X_train, y_train, **fit_params)\n",
      "  File \"h:\\bank_churn_prediction\\venvst\\lib\\site-packages\\sklearn\\base.py\", line 1152, in wrapper\n",
      "    return fit_method(estimator, *args, **kwargs)\n",
      "  File \"h:\\bank_churn_prediction\\venvst\\lib\\site-packages\\sklearn\\linear_model\\_logistic.py\", line 1169, in fit\n",
      "    solver = _check_solver(self.solver, self.penalty, self.dual)\n",
      "  File \"h:\\bank_churn_prediction\\venvst\\lib\\site-packages\\sklearn\\linear_model\\_logistic.py\", line 56, in _check_solver\n",
      "    raise ValueError(\n",
      "ValueError: Solver newton-cg supports only 'l2' or 'none' penalties, got l1 penalty.\n",
      "\n",
      "--------------------------------------------------------------------------------\n",
      "360 fits failed with the following error:\n",
      "Traceback (most recent call last):\n",
      "  File \"h:\\bank_churn_prediction\\venvst\\lib\\site-packages\\sklearn\\model_selection\\_validation.py\", line 729, in _fit_and_score\n",
      "    estimator.fit(X_train, y_train, **fit_params)\n",
      "  File \"h:\\bank_churn_prediction\\venvst\\lib\\site-packages\\sklearn\\base.py\", line 1152, in wrapper\n",
      "    return fit_method(estimator, *args, **kwargs)\n",
      "  File \"h:\\bank_churn_prediction\\venvst\\lib\\site-packages\\sklearn\\linear_model\\_logistic.py\", line 1169, in fit\n",
      "    solver = _check_solver(self.solver, self.penalty, self.dual)\n",
      "  File \"h:\\bank_churn_prediction\\venvst\\lib\\site-packages\\sklearn\\linear_model\\_logistic.py\", line 56, in _check_solver\n",
      "    raise ValueError(\n",
      "ValueError: Solver sag supports only 'l2' or 'none' penalties, got l1 penalty.\n",
      "\n",
      "--------------------------------------------------------------------------------\n",
      "360 fits failed with the following error:\n",
      "Traceback (most recent call last):\n",
      "  File \"h:\\bank_churn_prediction\\venvst\\lib\\site-packages\\sklearn\\model_selection\\_validation.py\", line 729, in _fit_and_score\n",
      "    estimator.fit(X_train, y_train, **fit_params)\n",
      "  File \"h:\\bank_churn_prediction\\venvst\\lib\\site-packages\\sklearn\\base.py\", line 1152, in wrapper\n",
      "    return fit_method(estimator, *args, **kwargs)\n",
      "  File \"h:\\bank_churn_prediction\\venvst\\lib\\site-packages\\sklearn\\linear_model\\_logistic.py\", line 1169, in fit\n",
      "    solver = _check_solver(self.solver, self.penalty, self.dual)\n",
      "  File \"h:\\bank_churn_prediction\\venvst\\lib\\site-packages\\sklearn\\linear_model\\_logistic.py\", line 56, in _check_solver\n",
      "    raise ValueError(\n",
      "ValueError: Solver lbfgs supports only 'l2' or 'none' penalties, got l1 penalty.\n",
      "\n",
      "  warnings.warn(some_fits_failed_message, FitFailedWarning)\n",
      "h:\\bank_churn_prediction\\venvst\\lib\\site-packages\\sklearn\\model_selection\\_search.py:979: UserWarning: One or more of the test scores are non-finite: [     nan 0.794875 0.794875 0.794875 0.794875      nan      nan      nan\n",
      "      nan      nan 0.794875      nan      nan 0.794875      nan 0.794875\n",
      " 0.794875 0.794875 0.794875 0.794875      nan 0.794875 0.794875 0.794875\n",
      " 0.794875      nan      nan      nan      nan      nan 0.794875      nan\n",
      "      nan 0.794875      nan 0.794875 0.794875 0.794875 0.794875 0.794875\n",
      "      nan 0.794875 0.794875 0.794875 0.794875      nan      nan      nan\n",
      "      nan      nan 0.794875      nan      nan 0.794875      nan 0.794875\n",
      " 0.794875 0.794875 0.794875 0.794875      nan 0.794875 0.794875 0.794875\n",
      " 0.794875      nan      nan      nan      nan      nan 0.794875      nan\n",
      "      nan 0.794875      nan 0.794875 0.794875 0.794875 0.794875 0.794875\n",
      "      nan 0.794875 0.794875 0.794875 0.794875      nan      nan      nan\n",
      "      nan      nan 0.794875      nan      nan 0.794875      nan 0.794875\n",
      " 0.794875 0.794875 0.794875 0.794875      nan 0.794875 0.794875 0.794875\n",
      " 0.794875      nan      nan      nan      nan      nan 0.794875      nan\n",
      "      nan 0.794875      nan 0.794875 0.794875 0.794875 0.794875 0.794875\n",
      "      nan 0.794875 0.794875 0.794875 0.794875      nan      nan      nan\n",
      "      nan      nan 0.794875      nan      nan 0.794875      nan 0.794875\n",
      " 0.794875 0.794875 0.794875 0.794875      nan 0.794875 0.794875 0.794875\n",
      " 0.794875      nan      nan      nan      nan      nan 0.794875      nan\n",
      "      nan 0.794875      nan 0.794875 0.794875 0.794875 0.794875 0.794875\n",
      "      nan 0.794875 0.794875 0.794875 0.794875      nan      nan      nan\n",
      "      nan      nan 0.794875      nan      nan 0.794875      nan 0.794875\n",
      " 0.794875 0.794875 0.794875 0.794875      nan 0.794875 0.794875 0.794875\n",
      " 0.794875      nan      nan      nan      nan      nan 0.794875      nan\n",
      "      nan 0.794875      nan 0.794875 0.794875 0.794875 0.794875 0.794875\n",
      "      nan 0.794875 0.794875 0.794875 0.794875      nan      nan      nan\n",
      "      nan      nan 0.794875      nan      nan 0.794875      nan 0.794875\n",
      " 0.794875 0.794875 0.794875 0.794875      nan 0.794875 0.794875 0.794875\n",
      " 0.794875      nan      nan      nan      nan      nan 0.794875      nan\n",
      "      nan 0.794875      nan 0.794875 0.794875 0.794875 0.794875 0.794875\n",
      "      nan 0.794875 0.794875 0.794875 0.794875      nan      nan      nan\n",
      "      nan      nan 0.794875      nan      nan 0.794875      nan 0.794875\n",
      " 0.794875 0.794875 0.794875 0.794875      nan 0.794875 0.794875 0.794875\n",
      " 0.794875      nan      nan      nan      nan      nan 0.794875      nan\n",
      "      nan 0.794875      nan 0.794875 0.794875 0.794875 0.794875 0.794875\n",
      "      nan 0.794875 0.794875 0.794875 0.794875      nan      nan      nan\n",
      "      nan      nan 0.794875      nan      nan 0.794875      nan 0.794875\n",
      " 0.794875 0.794875 0.794875 0.794875      nan 0.794875 0.794875 0.794875\n",
      " 0.794875      nan      nan      nan      nan      nan 0.794875      nan\n",
      "      nan 0.794875      nan 0.794875 0.794875 0.794875 0.794875 0.794875\n",
      "      nan 0.794875 0.794875 0.794875 0.794875      nan      nan      nan\n",
      "      nan      nan 0.794875      nan      nan 0.794875      nan 0.794875\n",
      " 0.794875 0.794875 0.794875 0.794875      nan 0.794875 0.794875 0.794875\n",
      " 0.794875      nan      nan      nan      nan      nan 0.794875      nan\n",
      "      nan 0.794875      nan 0.794875 0.794875 0.794875 0.794875 0.794875\n",
      "      nan 0.794875 0.794875 0.794875 0.794875      nan      nan      nan\n",
      "      nan      nan 0.794875      nan      nan 0.794875      nan 0.794875\n",
      " 0.794875 0.794875 0.794875 0.794875      nan 0.794875 0.794875 0.794875\n",
      " 0.794875      nan      nan      nan      nan      nan 0.794875      nan\n",
      "      nan 0.794875      nan 0.794875 0.794875 0.794875 0.794875 0.794875\n",
      "      nan 0.794875 0.794875 0.794875 0.794875      nan      nan      nan\n",
      "      nan      nan 0.794875      nan      nan 0.794875      nan 0.794875\n",
      " 0.794875 0.794875 0.794875 0.794875      nan 0.794875 0.794875 0.794875\n",
      " 0.794875      nan      nan      nan      nan      nan 0.794875      nan\n",
      "      nan 0.794875      nan 0.794875 0.794875 0.794875 0.794875 0.794875\n",
      "      nan 0.794875 0.794875 0.794875 0.794875      nan      nan      nan\n",
      "      nan      nan 0.794875      nan      nan 0.794875      nan 0.794875\n",
      " 0.794875 0.794875 0.794875 0.794875      nan 0.794875 0.794875 0.794875\n",
      " 0.794875      nan      nan      nan      nan      nan 0.794875      nan\n",
      "      nan 0.794875      nan 0.794875 0.794875 0.794875 0.794875 0.794875\n",
      "      nan 0.794875 0.794875 0.794875 0.794875      nan      nan      nan\n",
      "      nan      nan 0.794875      nan      nan 0.794875      nan 0.794875\n",
      " 0.794875 0.794875 0.794875 0.794875      nan 0.794875 0.794875 0.794875\n",
      " 0.794875      nan      nan      nan      nan      nan 0.794875      nan\n",
      "      nan 0.794875      nan 0.794875 0.794875 0.794875 0.794875 0.794875\n",
      "      nan 0.794875 0.794875 0.794875 0.794875      nan      nan      nan\n",
      "      nan      nan 0.794875      nan      nan 0.794875      nan 0.794875\n",
      " 0.794875 0.794875 0.794875 0.794875      nan 0.794875 0.794875 0.794875\n",
      " 0.794875      nan      nan      nan      nan      nan 0.794875      nan\n",
      "      nan 0.794875      nan 0.794875 0.794875 0.794875 0.794875 0.794875\n",
      "      nan 0.794875 0.794875 0.794875 0.794875      nan      nan      nan\n",
      "      nan      nan 0.794875      nan      nan 0.794875      nan 0.794875\n",
      " 0.794875 0.794875 0.794875 0.794875      nan 0.794875 0.794875 0.794875\n",
      " 0.794875      nan      nan      nan      nan      nan 0.794875      nan\n",
      "      nan 0.794875      nan 0.794875 0.794875 0.794875 0.794875 0.794875\n",
      "      nan 0.794875 0.794875 0.794875 0.794875      nan      nan      nan\n",
      "      nan      nan 0.794875      nan      nan 0.794875      nan 0.794875\n",
      " 0.794875 0.794875 0.794875 0.794875      nan 0.794875 0.794875 0.794875\n",
      " 0.794875      nan      nan      nan      nan      nan 0.794875      nan\n",
      "      nan 0.794875      nan 0.794875 0.794875 0.794875 0.794875 0.794875\n",
      "      nan 0.794875 0.794875 0.794875 0.794875      nan      nan      nan\n",
      "      nan      nan 0.794875      nan      nan 0.794875      nan 0.794875\n",
      " 0.794875 0.794875 0.794875 0.794875      nan 0.794875 0.794875 0.794875\n",
      " 0.794875      nan      nan      nan      nan      nan 0.794875      nan\n",
      "      nan 0.794875      nan 0.794875 0.794875 0.794875 0.794875 0.794875\n",
      "      nan 0.794875 0.794875 0.794875 0.794875      nan      nan      nan\n",
      "      nan      nan 0.794875      nan      nan 0.794875      nan 0.794875\n",
      " 0.794875 0.794875 0.794875 0.794875      nan 0.794875 0.794875 0.794875\n",
      " 0.794875      nan      nan      nan      nan      nan 0.794875      nan\n",
      "      nan 0.794875      nan 0.794875 0.794875 0.794875 0.794875 0.794875]\n",
      "  warnings.warn(\n",
      "h:\\bank_churn_prediction\\venvst\\lib\\site-packages\\sklearn\\linear_model\\_logistic.py:1183: FutureWarning: `penalty='none'`has been deprecated in 1.2 and will be removed in 1.4. To keep the past behaviour, set `penalty=None`.\n",
      "  warnings.warn(\n",
      "h:\\bank_churn_prediction\\venvst\\lib\\site-packages\\sklearn\\linear_model\\_logistic.py:1193: UserWarning: Setting penalty=None will ignore the C and l1_ratio parameters\n",
      "  warnings.warn(\n"
     ]
    },
    {
     "name": "stdout",
     "output_type": "stream",
     "text": [
      "Best Hyperparameters: {'C': 0.001, 'max_iter': 100, 'penalty': 'none', 'solver': 'newton-cg'}\n",
      "Best Accuracy Score: 0.7949\n"
     ]
    }
   ],
   "source": [
    "para_grid = {\n",
    "    'C': [0.001, 0.01, 0.1, 1, 10,20,50, 100, 1000],  # Regularization parameter\n",
    "    'solver': ['liblinear', 'newton-cg', 'sag', 'saga',\"lbfgs\"],\n",
    "    'penalty':['none', 'elasticnet', 'l1', 'l2'],\n",
    "    \"max_iter\": [100,500,1000,2000]}\n",
    "\n",
    "grid_search = GridSearchCV( log, para_grid, cv=10, verbose=True, n_jobs=-1) #scoring='accuracy',\n",
    "best_GS = grid_search.fit(X_train, y_train)\n",
    "\n",
    "print(f\"Best Hyperparameters: {grid_search.best_params_}\")\n",
    "print(f\"Best Accuracy Score: {grid_search.best_score_:.4f}\")"
   ]
  },
  {
   "cell_type": "code",
   "execution_count": 24,
   "id": "c9164e97",
   "metadata": {},
   "outputs": [],
   "source": [
    "# Best Hyperparameters: {'C': 0.001, 'max_iter': 100, 'penalty': 'l1', 'solver': 'liblinear'}\n",
    "# Best Accuracy Score: 0.7949"
   ]
  },
  {
   "cell_type": "code",
   "execution_count": 25,
   "id": "a0d03fb2",
   "metadata": {},
   "outputs": [
    {
     "data": {
      "text/plain": [
       "0.802"
      ]
     },
     "execution_count": 25,
     "metadata": {},
     "output_type": "execute_result"
    }
   ],
   "source": [
    "log_tuned = LogisticRegression(C=0.001, max_iter=100, penalty=\"l1\",class_weight=weights_dict, solver=\"liblinear\" )\n",
    "log_tuned.fit(X_train,y_train)\n",
    "y_pred = log_tuned.predict(X_test)\n",
    "accuracy_score(y_test,y_pred)"
   ]
  },
  {
   "cell_type": "code",
   "execution_count": 26,
   "id": "3732393e",
   "metadata": {},
   "outputs": [
    {
     "data": {
      "text/plain": [
       "0.802"
      ]
     },
     "execution_count": 26,
     "metadata": {},
     "output_type": "execute_result"
    }
   ],
   "source": [
    "log_tuned = LogisticRegression(C=1, max_iter=100, penalty=\"l2\", solver=\"liblinear\" )\n",
    "log_tuned.fit(X_train,y_train)\n",
    "y_pred = log_tuned.predict(X_test)\n",
    "accuracy_score(y_test,y_pred)"
   ]
  },
  {
   "cell_type": "markdown",
   "id": "e0c0b2f9",
   "metadata": {},
   "source": [
    "### Deploy the Project in Streamlit"
   ]
  },
  {
   "cell_type": "code",
   "execution_count": 27,
   "id": "e424f77f",
   "metadata": {},
   "outputs": [],
   "source": [
    "import pickle"
   ]
  },
  {
   "cell_type": "code",
   "execution_count": 28,
   "id": "a9be604f",
   "metadata": {},
   "outputs": [],
   "source": [
    "pickle.dump(log, open('model_churn.pkl','wb'))"
   ]
  },
  {
   "cell_type": "code",
   "execution_count": 29,
   "id": "efc05927",
   "metadata": {},
   "outputs": [],
   "source": [
    "model_final = pickle.load(open('model_churn.pkl','rb'))"
   ]
  },
  {
   "cell_type": "code",
   "execution_count": 30,
   "id": "a99c35fc",
   "metadata": {},
   "outputs": [
    {
     "data": {
      "text/html": [
       "<div>\n",
       "<style scoped>\n",
       "    .dataframe tbody tr th:only-of-type {\n",
       "        vertical-align: middle;\n",
       "    }\n",
       "\n",
       "    .dataframe tbody tr th {\n",
       "        vertical-align: top;\n",
       "    }\n",
       "\n",
       "    .dataframe thead th {\n",
       "        text-align: right;\n",
       "    }\n",
       "</style>\n",
       "<table border=\"1\" class=\"dataframe\">\n",
       "  <thead>\n",
       "    <tr style=\"text-align: right;\">\n",
       "      <th></th>\n",
       "      <th>credit_score</th>\n",
       "      <th>tenure</th>\n",
       "      <th>balance</th>\n",
       "      <th>products_number</th>\n",
       "      <th>credit_card</th>\n",
       "      <th>active_member</th>\n",
       "      <th>estimated_salary</th>\n",
       "      <th>churn</th>\n",
       "    </tr>\n",
       "  </thead>\n",
       "  <tbody>\n",
       "    <tr>\n",
       "      <th>0</th>\n",
       "      <td>619</td>\n",
       "      <td>2</td>\n",
       "      <td>0.00</td>\n",
       "      <td>1</td>\n",
       "      <td>1</td>\n",
       "      <td>1</td>\n",
       "      <td>101348.88</td>\n",
       "      <td>1</td>\n",
       "    </tr>\n",
       "    <tr>\n",
       "      <th>1</th>\n",
       "      <td>608</td>\n",
       "      <td>1</td>\n",
       "      <td>83807.86</td>\n",
       "      <td>1</td>\n",
       "      <td>0</td>\n",
       "      <td>1</td>\n",
       "      <td>112542.58</td>\n",
       "      <td>0</td>\n",
       "    </tr>\n",
       "    <tr>\n",
       "      <th>2</th>\n",
       "      <td>502</td>\n",
       "      <td>8</td>\n",
       "      <td>159660.80</td>\n",
       "      <td>3</td>\n",
       "      <td>1</td>\n",
       "      <td>0</td>\n",
       "      <td>113931.57</td>\n",
       "      <td>1</td>\n",
       "    </tr>\n",
       "    <tr>\n",
       "      <th>3</th>\n",
       "      <td>699</td>\n",
       "      <td>1</td>\n",
       "      <td>0.00</td>\n",
       "      <td>2</td>\n",
       "      <td>0</td>\n",
       "      <td>0</td>\n",
       "      <td>93826.63</td>\n",
       "      <td>0</td>\n",
       "    </tr>\n",
       "    <tr>\n",
       "      <th>4</th>\n",
       "      <td>850</td>\n",
       "      <td>2</td>\n",
       "      <td>125510.82</td>\n",
       "      <td>1</td>\n",
       "      <td>1</td>\n",
       "      <td>1</td>\n",
       "      <td>79084.10</td>\n",
       "      <td>0</td>\n",
       "    </tr>\n",
       "  </tbody>\n",
       "</table>\n",
       "</div>"
      ],
      "text/plain": [
       "   credit_score  tenure    balance  products_number  credit_card  \\\n",
       "0           619       2       0.00                1            1   \n",
       "1           608       1   83807.86                1            0   \n",
       "2           502       8  159660.80                3            1   \n",
       "3           699       1       0.00                2            0   \n",
       "4           850       2  125510.82                1            1   \n",
       "\n",
       "   active_member  estimated_salary  churn  \n",
       "0              1         101348.88      1  \n",
       "1              1         112542.58      0  \n",
       "2              0         113931.57      1  \n",
       "3              0          93826.63      0  \n",
       "4              1          79084.10      0  "
      ]
     },
     "execution_count": 30,
     "metadata": {},
     "output_type": "execute_result"
    }
   ],
   "source": [
    "df.head()"
   ]
  },
  {
   "cell_type": "code",
   "execution_count": 31,
   "id": "26a0eb9a",
   "metadata": {},
   "outputs": [
    {
     "name": "stderr",
     "output_type": "stream",
     "text": [
      "h:\\bank_churn_prediction\\venvst\\lib\\site-packages\\sklearn\\base.py:465: UserWarning: X does not have valid feature names, but LogisticRegression was fitted with feature names\n",
      "  warnings.warn(\n"
     ]
    },
    {
     "data": {
      "text/plain": [
       "1"
      ]
     },
     "execution_count": 31,
     "metadata": {},
     "output_type": "execute_result"
    }
   ],
   "source": [
    "model_final.predict([[699,1,0.00,2,0,0,93826.63]])[0]\n"
   ]
  },
  {
   "cell_type": "code",
   "execution_count": 32,
   "id": "72790fb5",
   "metadata": {},
   "outputs": [
    {
     "name": "stderr",
     "output_type": "stream",
     "text": [
      "h:\\bank_churn_prediction\\venvst\\lib\\site-packages\\sklearn\\base.py:465: UserWarning: X does not have valid feature names, but LogisticRegression was fitted with feature names\n",
      "  warnings.warn(\n"
     ]
    },
    {
     "data": {
      "text/plain": [
       "1"
      ]
     },
     "execution_count": 32,
     "metadata": {},
     "output_type": "execute_result"
    }
   ],
   "source": [
    "log_tuned.predict([[619,2,0.00,1,1,1,101348.88]])[0]"
   ]
  },
  {
   "cell_type": "code",
   "execution_count": 33,
   "id": "505862f9",
   "metadata": {},
   "outputs": [
    {
     "data": {
      "text/plain": [
       "'1.3.1'"
      ]
     },
     "execution_count": 33,
     "metadata": {},
     "output_type": "execute_result"
    }
   ],
   "source": [
    "sklearn.__version__"
   ]
  }
 ],
 "metadata": {
  "kernelspec": {
   "display_name": "Python 3 (ipykernel)",
   "language": "python",
   "name": "python3"
  },
  "language_info": {
   "codemirror_mode": {
    "name": "ipython",
    "version": 3
   },
   "file_extension": ".py",
   "mimetype": "text/x-python",
   "name": "python",
   "nbconvert_exporter": "python",
   "pygments_lexer": "ipython3",
   "version": "3.10.0"
  }
 },
 "nbformat": 4,
 "nbformat_minor": 5
}
